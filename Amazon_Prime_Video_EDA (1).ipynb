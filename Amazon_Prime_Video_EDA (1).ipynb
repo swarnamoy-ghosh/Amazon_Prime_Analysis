{
  "nbformat": 4,
  "nbformat_minor": 0,
  "metadata": {
    "colab": {
      "private_outputs": true,
      "provenance": [],
      "collapsed_sections": [
        "vncDsAP0Gaoa",
        "FJNUwmbgGyua",
        "w6K7xa23Elo4",
        "yQaldy8SH6Dl",
        "PH-0ReGfmX4f",
        "mDgbUHAGgjLW",
        "3RnN4peoiCZX",
        "7hBIi_osiCS2",
        "JlHwYmJAmNHm",
        "35m5QtbWiB9F",
        "PoPl-ycgm1ru",
        "H0kj-8xxnORC",
        "PBTbrJXOngz2",
        "u3PMJOP6ngxN",
        "0wOQAZs5pc--",
        "KSlN3yHqYklG",
        "fge-S5ZAYoAp",
        "85gYPyotYoAp",
        "RoGjAbkUYoAp",
        "4Of9eVA-YrdM",
        "iky9q4vBYrdO",
        "F6T5p64dYrdO",
        "y-Ehk30pYrdP",
        "bamQiAODYuh1",
        "QHF8YVU7Yuh3",
        "GwzvFGzlYuh3",
        "qYpmQ266Yuh3",
        "OH-pJp9IphqM",
        "bbFf2-_FphqN",
        "_ouA3fa0phqN",
        "Seke61FWphqN",
        "PIIx-8_IphqN",
        "t27r6nlMphqO",
        "r2jJGEOYphqO",
        "b0JNsNcRphqO",
        "BZR9WyysphqO",
        "jj7wYXLtphqO",
        "eZrbJ2SmphqO",
        "rFu4xreNphqO",
        "YJ55k-q6phqO",
        "gCFgpxoyphqP",
        "OVtJsKN_phqQ",
        "lssrdh5qphqQ",
        "U2RJ9gkRphqQ",
        "1M8mcRywphqQ",
        "tgIPom80phqQ",
        "JMzcOPDDphqR",
        "x-EpHcCOp1ci",
        "X_VqEhTip1ck",
        "8zGJKyg5p1ck",
        "PVzmfK_Ep1ck",
        "n3dbpmDWp1ck",
        "ylSl6qgtp1ck",
        "ZWILFDl5p1ck",
        "M7G43BXep1ck",
        "Ag9LCva-p1cl",
        "E6MkPsBcp1cl",
        "2cELzS2fp1cl",
        "3MPXvC8up1cl",
        "NC_X3p0fY2L0",
        "UV0SzAkaZNRQ",
        "YPEH6qLeZNRQ",
        "q29F0dvdveiT",
        "EXh0U9oCveiU",
        "22aHeOlLveiV",
        "JcMwzZxoAimU",
        "8G2x9gOozGDZ",
        "gCX9965dhzqZ",
        "gIfDvo9L0UH2"
      ]
    },
    "kernelspec": {
      "name": "python3",
      "display_name": "Python 3"
    },
    "language_info": {
      "name": "python"
    }
  },
  "cells": [
    {
      "cell_type": "markdown",
      "source": [
        "# **Project Name**    -\n",
        "\n"
      ],
      "metadata": {
        "id": "vncDsAP0Gaoa"
      }
    },
    {
      "cell_type": "markdown",
      "source": [
        "##### **Project Type**    - Amazon Prime TV Shows and Movies Analysis\n",
        "##### **Contribution**    - Individual"
      ],
      "metadata": {
        "id": "beRrZCGUAJYm"
      }
    },
    {
      "cell_type": "markdown",
      "source": [
        "# **Project Summary -**"
      ],
      "metadata": {
        "id": "FJNUwmbgGyua"
      }
    },
    {
      "cell_type": "markdown",
      "source": [
        "**This project presents an in-depth analysis of Amazon Prime’s catalog of TV shows\n",
        "and movies, aiming to extract meaningful insights from the platform’s content database. By leveraging a structured dataset (titles.csv) and visual storytelling through a PowerPoint presentation, the analysis explores various dimensions of the platform's offerings, such as genre distribution, release trends, content types, and regional representation.**\n",
        "\n",
        "**The dataset used includes detailed metadata for Amazon Prime titles, including attributes like title name, type (TV show or movie), release year, age rating, runtime, genres, IMDb scores, and country of origin. With over 9,000 entries, it provides a robust basis for exploring both quantitative and qualitative patterns.**\n",
        "\n",
        "**The analysis begins by categorizing content by type, revealing that movies outnumber TV shows significantly. This sets the stage for deeper exploration into what genres dominate each category. Action, drama, and comedy emerge as the leading genres, while children’s programming and documentary content also represent a substantial share.**\n",
        "\n",
        "**Temporal trends are another key area of focus. The release year distribution shows a steady growth in Amazon Prime’s content acquisition over time, with a notable surge in recent years—likely reflecting the platform’s increasing investment in original content and licensing deals. The content is predominantly targeted at audiences aged 16+ and 18+, with relatively fewer titles for younger viewers, indicating a preference for more mature themes.**\n",
        "\n",
        "**Regional diversity is addressed through the “country” and “language” fields, which suggest a strong emphasis on content from the United States, followed by contributions from India, the United Kingdom, and other countries.**\n",
        "**This highlights Amazon Prime’s effort to cater to both global and regional markets, although the majority of titles remain English-language.**\n",
        "\n",
        "**IMDb scores were also analyzed, providing insights into audience reception and critical acclaim. Most titles fall in the 6–7.5 rating range, suggesting a generally favorable perception of Amazon Prime’s content.**\n",
        "\n",
        "**The project concludes by identifying areas for potential improvement and expansion, such as increasing the representation of international content and developing more youth-friendly programming. These recommendations are based on gaps observed in the genre and age rating distributions.**\n",
        "\n",
        "**Overall, this project offers a comprehensive overview of Amazon Prime’s content strategy through data visualization and statistical analysis. It is a valuable resource for stakeholders aiming to understand content trends, audience preferences, and opportunities for strategic growth on the platform.**"
      ],
      "metadata": {
        "id": "F6v_1wHtG2nS"
      }
    },
    {
      "cell_type": "markdown",
      "source": [
        "# **GitHub Link -**"
      ],
      "metadata": {
        "id": "w6K7xa23Elo4"
      }
    },
    {
      "cell_type": "markdown",
      "source": [
        "https://github.com/swarnamoy-ghosh/Amazon_Prime_Analysis"
      ],
      "metadata": {
        "id": "h1o69JH3Eqqn"
      }
    },
    {
      "cell_type": "markdown",
      "source": [
        "# **Problem Statement**\n"
      ],
      "metadata": {
        "id": "yQaldy8SH6Dl"
      }
    },
    {
      "cell_type": "markdown",
      "source": [
        "**With the rapidly growing competition in the streaming industry, Amazon Prime Video needs to better understand the characteristics, performance, and gaps in its current catalog of TV shows and movies. However, the platform's vast and diverse content library lacks a consolidated, data-driven analysis that highlights content trends, viewer preferences, genre distribution, regional representation, and audience ratings. This project aims to bridge that gap by analyzing Amazon Prime’s catalog to uncover key insights and patterns that can inform content acquisition, recommendation strategies, and regional content expansion.**"
      ],
      "metadata": {
        "id": "DpeJGUA3kjGy"
      }
    },
    {
      "cell_type": "markdown",
      "source": [
        "#### **Define Your Business Objective?**"
      ],
      "metadata": {
        "id": "PH-0ReGfmX4f"
      }
    },
    {
      "cell_type": "markdown",
      "source": [
        "**The primary business objective of this project is to analyze Amazon Prime Video’s existing catalog of TV shows and movies to identify strategic insights that can enhance content planning, acquisition, and customer engagement. By understanding patterns in genre popularity, regional content availability, age ratings, and audience ratings (e.g., IMDb scores), Amazon Prime can make data-driven decisions to:**\n",
        "\n",
        "\n",
        "*   **Optimize content investment by focusing on high-performing genres and regions.**\n",
        "*   **Identify underrepresented segments (such as family content or non-English titles) for growth opportunities.**\n",
        "\n",
        "\n",
        "*   **Enhance user satisfaction and retention through better-targeted content recommendations.**\n",
        "*   **Stay competitive in the global streaming market by adapting content strategies based on viewing trends and gaps.**\n",
        "\n",
        "**Ultimately, the objective is to leverage data analytics to improve content strategy and viewer experience, driving higher subscription growth and engagement on the platform.**\n",
        "\n",
        "\n",
        "\n"
      ],
      "metadata": {
        "id": "PhDvGCAqmjP1"
      }
    },
    {
      "cell_type": "markdown",
      "source": [
        "# **General Guidelines** : -  "
      ],
      "metadata": {
        "id": "mDgbUHAGgjLW"
      }
    },
    {
      "cell_type": "markdown",
      "source": [
        "1.   Well-structured, formatted, and commented code is required.\n",
        "2.   Exception Handling, Production Grade Code & Deployment Ready Code will be a plus. Those students will be awarded some additional credits.\n",
        "     \n",
        "     The additional credits will have advantages over other students during Star Student selection.\n",
        "       \n",
        "             [ Note: - Deployment Ready Code is defined as, the whole .ipynb notebook should be executable in one go\n",
        "                       without a single error logged. ]\n",
        "\n",
        "3.   Each and every logic should have proper comments.\n",
        "4. You may add as many number of charts you want. Make Sure for each and every chart the following format should be answered.\n",
        "        \n",
        "\n",
        "```\n",
        "# Chart visualization code\n",
        "```\n",
        "            \n",
        "\n",
        "*   Why did you pick the specific chart?\n",
        "*   What is/are the insight(s) found from the chart?\n",
        "* Will the gained insights help creating a positive business impact?\n",
        "Are there any insights that lead to negative growth? Justify with specific reason.\n",
        "\n",
        "5. You have to create at least 20 logical & meaningful charts having important insights.\n",
        "\n",
        "\n",
        "[ Hints : - Do the Vizualization in  a structured way while following \"UBM\" Rule.\n",
        "\n",
        "U - Univariate Analysis,\n",
        "\n",
        "B - Bivariate Analysis (Numerical - Categorical, Numerical - Numerical, Categorical - Categorical)\n",
        "\n",
        "M - Multivariate Analysis\n",
        " ]\n",
        "\n",
        "\n",
        "\n"
      ],
      "metadata": {
        "id": "ZrxVaUj-hHfC"
      }
    },
    {
      "cell_type": "markdown",
      "source": [
        "# ***Let's Begin !***"
      ],
      "metadata": {
        "id": "O_i_v8NEhb9l"
      }
    },
    {
      "cell_type": "markdown",
      "source": [
        "## ***1. Know Your Data***"
      ],
      "metadata": {
        "id": "HhfV-JJviCcP"
      }
    },
    {
      "cell_type": "markdown",
      "source": [
        "### Import Libraries"
      ],
      "metadata": {
        "id": "Y3lxredqlCYt"
      }
    },
    {
      "cell_type": "code",
      "source": [
        "import pandas as pd\n",
        "import numpy as np\n",
        "import matplotlib.pyplot as plt\n",
        "import seaborn as sns\n",
        "import ast\n",
        "from collections import Counter"
      ],
      "metadata": {
        "id": "M8Vqi-pPk-HR"
      },
      "execution_count": null,
      "outputs": []
    },
    {
      "cell_type": "markdown",
      "source": [
        "### Dataset Loading"
      ],
      "metadata": {
        "id": "3RnN4peoiCZX"
      }
    },
    {
      "cell_type": "code",
      "source": [
        "df = pd.read_csv('/content/titles.csv')"
      ],
      "metadata": {
        "id": "4CkvbW_SlZ_R"
      },
      "execution_count": null,
      "outputs": []
    },
    {
      "cell_type": "markdown",
      "source": [
        "### Dataset First View"
      ],
      "metadata": {
        "id": "x71ZqKXriCWQ"
      }
    },
    {
      "cell_type": "code",
      "source": [
        "df"
      ],
      "metadata": {
        "id": "LWNFOSvLl09H"
      },
      "execution_count": null,
      "outputs": []
    },
    {
      "cell_type": "markdown",
      "source": [
        "### Dataset Rows & Columns count"
      ],
      "metadata": {
        "id": "7hBIi_osiCS2"
      }
    },
    {
      "cell_type": "code",
      "source": [
        "df.shape"
      ],
      "metadata": {
        "id": "Kllu7SJgmLij"
      },
      "execution_count": null,
      "outputs": []
    },
    {
      "cell_type": "markdown",
      "source": [
        "### Dataset Information"
      ],
      "metadata": {
        "id": "JlHwYmJAmNHm"
      }
    },
    {
      "cell_type": "code",
      "source": [
        "df.info()"
      ],
      "metadata": {
        "id": "e9hRXRi6meOf"
      },
      "execution_count": null,
      "outputs": []
    },
    {
      "cell_type": "markdown",
      "source": [
        "#### Duplicate Values"
      ],
      "metadata": {
        "id": "35m5QtbWiB9F"
      }
    },
    {
      "cell_type": "code",
      "source": [
        "print(f\"Duplicate values count: {df.duplicated().sum()}\")"
      ],
      "metadata": {
        "id": "1sLdpKYkmox0"
      },
      "execution_count": null,
      "outputs": []
    },
    {
      "cell_type": "markdown",
      "source": [
        "#### Missing Values/Null Values"
      ],
      "metadata": {
        "id": "PoPl-ycgm1ru"
      }
    },
    {
      "cell_type": "code",
      "source": [
        "print(df.isnull().sum())"
      ],
      "metadata": {
        "id": "GgHWkxvamxVg"
      },
      "execution_count": null,
      "outputs": []
    },
    {
      "cell_type": "code",
      "source": [
        "sns.set(style=\"whitegrid\")\n",
        "plt.figure(figsize=(12, 6))\n",
        "\n",
        "missing_data = df.isnull().mean().sort_values(ascending=False) * 100\n",
        "missing_data = missing_data[missing_data > 0]\n",
        "\n",
        "sns.barplot(x=missing_data.values, y=missing_data.index, palette=\"viridis\")\n",
        "plt.title(\"Percentage of Missing Values by Column\")\n",
        "plt.xlabel(\"Percent Missing (%)\")\n",
        "plt.ylabel(\"Column\")\n",
        "plt.tight_layout()\n",
        "plt.show()"
      ],
      "metadata": {
        "id": "3q5wnI3om9sJ"
      },
      "execution_count": null,
      "outputs": []
    },
    {
      "cell_type": "markdown",
      "source": [
        "### What did you know about your dataset?"
      ],
      "metadata": {
        "id": "H0kj-8xxnORC"
      }
    },
    {
      "cell_type": "markdown",
      "source": [
        "**The Amazon Prime Titles dataset comprises 9,871 entries, each representing either a movie or a TV show available on the platform. It includes 15 columns with metadata such as title, type, release year, genres, age certification, runtime, production countries, and audience ratings from IMDb and TMDb. The dataset contains both categorical and numerical variables, with some fields like genres and production_countries represented as stringified lists that require parsing for analysis.**\n",
        "\n",
        "**Initial data inspection revealed notable patterns and issues. Movies make up the majority of the content compared to TV shows. Popular genres include drama, comedy, and action, highlighting Amazon Prime’s focus on mainstream entertainment. The dataset also shows that most titles are rated for mature audiences (16+ and 18+), with relatively few options for younger viewers. A temporal analysis indicates a significant increase in content releases post-2010, reflecting Amazon's growing investment in original productions and acquisitions. Geographically, content is predominantly from the United States, followed by contributions from India and the United Kingdom.**\n",
        "\n",
        "**In terms of data quality, several columns contain missing values. Notably, over 60% of the entries lack age certification, and some fields like seasons, imdb_score, and tmdb_score have partial gaps. These missing values need to be handled appropriately depending on the intended analysis. Overall, the dataset provides a rich basis for understanding Amazon Prime’s content strategy, identifying gaps, and informing decisions about content curation and expansion.**"
      ],
      "metadata": {
        "id": "gfoNAAC-nUe_"
      }
    },
    {
      "cell_type": "markdown",
      "source": [
        "## ***2. Understanding Your Variables***"
      ],
      "metadata": {
        "id": "nA9Y7ga8ng1Z"
      }
    },
    {
      "cell_type": "code",
      "source": [
        "df.columns"
      ],
      "metadata": {
        "id": "j7xfkqrt5Ag5"
      },
      "execution_count": null,
      "outputs": []
    },
    {
      "cell_type": "code",
      "source": [
        "df.describe()"
      ],
      "metadata": {
        "id": "DnOaZdaE5Q5t"
      },
      "execution_count": null,
      "outputs": []
    },
    {
      "cell_type": "markdown",
      "source": [
        "### Variables Description"
      ],
      "metadata": {
        "id": "PBTbrJXOngz2"
      }
    },
    {
      "cell_type": "markdown",
      "source": [
        "| Variable Name             | Description                                                                     |\n",
        "| ------------------------- | ------------------------------------------------------------------------------- |\n",
        "| **id**                    | A unique identifier for each title in the dataset.                              |\n",
        "| **title**                 | The name of the movie or TV show.                                               |\n",
        "| **type**                  | Indicates whether the content is a **MOVIE** or a **SHOW**.                     |\n",
        "| **description**           | A short synopsis or summary of the content.                                     |\n",
        "| **release\\_year**         | The year the movie or show was released.                                        |\n",
        "| **age\\_certification**    | Age rating for the title (e.g., PG, R, TV-14, 18+). Shows audience suitability. |\n",
        "| **runtime**               | Total runtime of the movie (in minutes) or average episode length for shows.    |\n",
        "| **genres**                | A list of genres (e.g., drama, comedy, action) associated with the title.       |\n",
        "| **production\\_countries** | List of countries where the title was produced.                                 |\n",
        "| **seasons**               | Number of seasons (applicable only for TV shows).                               |\n",
        "| **imdb\\_id**              | Unique identifier used by IMDb for the title.                                   |\n",
        "| **imdb\\_score**           | IMDb rating (on a scale of 0 to 10).                                            |\n",
        "| **imdb\\_votes**           | Number of user votes on IMDb. Indicates popularity.                             |\n",
        "| **tmdb\\_popularity**      | Popularity score on The Movie Database (TMDb).                                  |\n",
        "| **tmdb\\_score**           | TMDb rating (on a scale of 0 to 10).                                            |\n"
      ],
      "metadata": {
        "id": "aJV4KIxSnxay"
      }
    },
    {
      "cell_type": "markdown",
      "source": [
        "### Check Unique Values for each variable."
      ],
      "metadata": {
        "id": "u3PMJOP6ngxN"
      }
    },
    {
      "cell_type": "code",
      "source": [
        "print(df.nunique())"
      ],
      "metadata": {
        "id": "zms12Yq5n-jE"
      },
      "execution_count": null,
      "outputs": []
    },
    {
      "cell_type": "markdown",
      "source": [
        "## 3. ***Data Wrangling***"
      ],
      "metadata": {
        "id": "dauF4eBmngu3"
      }
    },
    {
      "cell_type": "markdown",
      "source": [
        "### Data Wrangling Code"
      ],
      "metadata": {
        "id": "bKJF3rekwFvQ"
      }
    },
    {
      "cell_type": "code",
      "source": [
        "# Remove duplicate rows from the DataFrame\n",
        "df.drop_duplicates()\n",
        "\n",
        "# Remove leading and trailing spaces from column names\n",
        "df.columns = df.columns.str.strip()\n",
        "\n",
        "# Convert 'genres' column from string to list using literal_eval, if not null\n",
        "df['genres'] = df['genres'].apply(lambda x: ast.literal_eval(x) if pd.notnull(x) else [])\n",
        "\n",
        "# Convert 'production_countries' column from string to list, if not null\n",
        "df['production_countries'] = df['production_countries'].apply(lambda x: ast.literal_eval(x) if pd.notnull(x) else [])\n",
        "\n",
        "# Replace missing values in 'age_certification' with 'Not Rated'\n",
        "df['age_certification'] = df['age_certification'].fillna('Not Rated')\n",
        "\n",
        "# Replace missing values in 'runtime' with 0\n",
        "df['runtime'] = df['runtime'].fillna(0)\n",
        "\n",
        "# Replace missing values in 'seasons' with 0\n",
        "df['seasons'] = df['seasons'].fillna(0)\n",
        "\n",
        "# Replace missing values in 'imdb_score' with the mean IMDb score\n",
        "df['imdb_score'] = df['imdb_score'].fillna(df['imdb_score'].mean())\n",
        "\n",
        "# Replace missing values in 'imdb_votes' with 0\n",
        "df['imdb_votes'] = df['imdb_votes'].fillna(0)\n",
        "\n",
        "# Replace missing values in 'tmdb_score' with the mean TMDB score\n",
        "df['tmdb_score'] = df['tmdb_score'].fillna(df['tmdb_score'].mean())\n",
        "\n",
        "# Replace missing values in 'tmdb_popularity' with 0\n",
        "df['tmdb_popularity'] = df['tmdb_popularity'].fillna(0)\n"
      ],
      "metadata": {
        "id": "wk-9a2fpoLcV"
      },
      "execution_count": null,
      "outputs": []
    },
    {
      "cell_type": "code",
      "source": [
        "# Find the indices of rows where 'imdb_id' is missing (NaN)\n",
        "missing_id_indices = df[df['imdb_id'].isnull()].index\n",
        "\n",
        "# Generate new unique placeholder IMDb IDs like 'new_0', 'new_1', ..., for each missing entry\n",
        "new_ids = [f'new_{i}' for i in range(len(missing_id_indices))]\n",
        "\n",
        "# Assign the generated IDs to the missing 'imdb_id' values using .loc for proper indexing\n",
        "df.loc[missing_id_indices, 'imdb_id'] = new_ids"
      ],
      "metadata": {
        "id": "B-EHR3m-1qgg"
      },
      "execution_count": null,
      "outputs": []
    },
    {
      "cell_type": "markdown",
      "source": [
        "### What all manipulations have you done and insights you found?"
      ],
      "metadata": {
        "id": "MSa1f5Uengrz"
      }
    },
    {
      "cell_type": "markdown",
      "source": [
        "**Data Manipulations Performed**\n",
        "\n",
        "1. Removed duplicates\n",
        "2. Cleaned column names\n",
        "3. Parsed stringified lists into actual Python objects\n",
        "4. Handled missing values:\n",
        "  1. age_certification → filled with 'Not Rated'\n",
        "  2. runtime, seasons, imdb_votes, tmdb_popularity → filled with 0\n",
        "  3. imdb_score, tmdb_score → filled with their mean values\n",
        "5. Created new IDs like new_0, new_1, etc., for rows with missing imdb_id\n",
        "\n",
        "**Insights from the Data Cleaning**\n",
        "1. Dataset had several missing or malformed values, now fixed.\n",
        "\n",
        "2. All columns are now clean and ready for analysis or modeling.\n",
        "\n",
        "3. Nested data (genres, production_countries) is now accessible as lists.\n",
        "\n",
        "4. Placeholder IDs ensure every row has a unique identifier.\n",
        "\n",
        "5. Data is consistent and suitable for:\n",
        "\n",
        "  1. Visualization\n",
        "\n",
        "  2. Aggregation (e.g., scores by genre)\n"
      ],
      "metadata": {
        "id": "LbyXE7I1olp8"
      }
    },
    {
      "cell_type": "markdown",
      "source": [
        "## ***4. Data Vizualization, Storytelling & Experimenting with charts : Understand the relationships between variables***"
      ],
      "metadata": {
        "id": "GF8Ens_Soomf"
      }
    },
    {
      "cell_type": "markdown",
      "source": [
        "#### Chart - 1"
      ],
      "metadata": {
        "id": "0wOQAZs5pc--"
      }
    },
    {
      "cell_type": "code",
      "source": [
        "type_counts = df['type'].value_counts()\n",
        "labels = type_counts.index\n",
        "sizes = type_counts.values\n",
        "\n",
        "# Function to show percentage and actual count\n",
        "def format_label(pct, allvals):\n",
        "    absolute = int(round(pct/100. * sum(allvals)))\n",
        "    return f\"{pct:.1f}%\\n({absolute})\"\n",
        "\n",
        "plt.figure(figsize=(4, 4))\n",
        "colors = ['#ff9999', '#66b3ff']\n",
        "\n",
        "plt.pie(\n",
        "    sizes,\n",
        "    labels=labels,\n",
        "    autopct=lambda pct: format_label(pct, sizes),\n",
        "    startangle=140,\n",
        "    colors=colors,\n",
        "    textprops={'fontsize': 12, 'fontweight': 'bold'}\n",
        ")\n",
        "\n",
        "plt.title(\"Distribution of Content Type\", fontsize=16, fontweight='bold')\n",
        "plt.tight_layout()\n",
        "plt.show()\n"
      ],
      "metadata": {
        "id": "7v_ESjsspbW7"
      },
      "execution_count": null,
      "outputs": []
    },
    {
      "cell_type": "markdown",
      "source": [
        "##### 1. Why did you pick the specific chart?"
      ],
      "metadata": {
        "id": "K5QZ13OEpz2H"
      }
    },
    {
      "cell_type": "markdown",
      "source": [
        "**✅Understanding Dataset Composition:**\n",
        "It gives a quick overview of the dataset’s structure — are we dealing more with movies or TV shows?\n",
        "\n",
        "Useful for knowing what kind of content dominates your data."
      ],
      "metadata": {
        "id": "XESiWehPqBRc"
      }
    },
    {
      "cell_type": "markdown",
      "source": [
        "##### 2. What is/are the insight(s) found from the chart?"
      ],
      "metadata": {
        "id": "lQ7QKXXCp7Bj"
      }
    },
    {
      "cell_type": "markdown",
      "source": [
        "**📌Insights:**\n",
        "*   🎬 Movies = 86.3%\n",
        "*   📺 Shows = 13.7%\n",
        "*  Amazon Prime dataset leans heavily toward single-watch content.\n",
        "\n",
        "\n"
      ],
      "metadata": {
        "id": "C_j1G7yiqdRP"
      }
    },
    {
      "cell_type": "markdown",
      "source": [
        "##### 3. Will the gained insights help creating a positive business impact?\n",
        "Are there any insights that lead to negative growth? Justify with specific reason."
      ],
      "metadata": {
        "id": "448CDAPjqfQr"
      }
    },
    {
      "cell_type": "markdown",
      "source": [
        "**✅ Positive Impacts on Business From Chart Insight**\n",
        "\n",
        "\n",
        "*   The chart reveals whether the focus is on movies or shows, helping platforms align content creation and licensing with audience demand.\n",
        "*   Understanding dominant content types allows for better recommendations and UI personalization, boosting watch time and user satisfaction.\n",
        "* Clear data on content distribution guides efficient allocation of budgets toward high-performing formats (e.g., more shows if shows are trending).\n",
        "* A strong or unique focus (e.g., mostly shows or a balanced mix) can differentiate the platform in the market, improving brand appeal and retention.\n",
        "\n",
        "**⚠️ Negative Impact on Business From Chart Insight**\n",
        "\n",
        "**Content Imbalance ≠ Negative Growth (Directly)**\n",
        "\n",
        "\n",
        "*   A higher number of movies or shows in the dataset doesn’t automatically mean negative growth.\n",
        "*   However, if the platform is heavily skewed (e.g., 90% movies, 10% shows) and user trends show preference shifting toward episodic content (shows), that could lead to decreased user engagement.\n",
        "\n"
      ],
      "metadata": {
        "id": "3cspy4FjqxJW"
      }
    },
    {
      "cell_type": "markdown",
      "source": [
        "#### Chart - 2"
      ],
      "metadata": {
        "id": "KSlN3yHqYklG"
      }
    },
    {
      "cell_type": "code",
      "source": [
        "from matplotlib import cm\n",
        "\n",
        "all_genres = [genre for sublist in df['genres'] for genre in sublist]\n",
        "genre_counts = Counter(all_genres)\n",
        "genre_df = pd.DataFrame(genre_counts.items(), columns=['Genre', 'Count']).sort_values(by='Count', ascending=False)\n",
        "top_genres = genre_df.reset_index(drop=True)\n",
        "\n",
        "norm = plt.Normalize(top_genres['Count'].min(), top_genres['Count'].max())\n",
        "colors = cm.get_cmap('RdBu')(norm(top_genres['Count']))\n",
        "\n",
        "plt.figure(figsize=(12, 6))\n",
        "bars = plt.bar(top_genres['Genre'], top_genres['Count'], color=colors, edgecolor='black')\n",
        "\n",
        "plt.title(\"Dominant Genres on the Platform\", fontsize=14, fontweight='bold')\n",
        "plt.xlabel(\"Genre\", fontsize=12)\n",
        "plt.ylabel(\"Number of Titles\", fontsize=12)\n",
        "plt.xticks(rotation=90)\n",
        "\n",
        "for i, bar in enumerate(bars):\n",
        "    height = bar.get_height()\n",
        "    plt.text(bar.get_x() + bar.get_width() / 2, height + 3, str(top_genres['Count'][i]),\n",
        "             ha='center', va='bottom', fontsize=10, fontweight='bold')\n",
        "\n",
        "plt.tight_layout()\n",
        "plt.show()\n"
      ],
      "metadata": {
        "id": "R4YgtaqtYklH"
      },
      "execution_count": null,
      "outputs": []
    },
    {
      "cell_type": "markdown",
      "source": [
        "##### 1. Why did you pick the specific chart?"
      ],
      "metadata": {
        "id": "t6dVpIINYklI"
      }
    },
    {
      "cell_type": "markdown",
      "source": [
        "1. It reveals which genres dominate the platform (e.g., Drama, Comedy, Action).\n",
        "2. This helps identify the platform’s primary content direction and whether it aligns with audience interests or needs diversification.\n",
        "\n"
      ],
      "metadata": {
        "id": "5aaW0BYyYklI"
      }
    },
    {
      "cell_type": "markdown",
      "source": [
        "##### 2. What is/are the insight(s) found from the chart?"
      ],
      "metadata": {
        "id": "ijmpgYnKYklI"
      }
    },
    {
      "cell_type": "markdown",
      "source": [
        "**📌 Insights from the Genre Distribution Chart**\n",
        "1. Genres like Drama, Comedy, or Thriller typically top the list, suggesting these are the most consumed and favored by the audience.\n",
        "2. If certain genres (e.g., Documentary, Animation, Horror) are underrepresented, it highlights opportunities to expand and attract diverse viewer segments.\n",
        "3. The genre spread defines the platform’s content identity—whether it’s action-heavy, family-friendly, or variety-rich.\n",
        "4. The insights guide future acquisitions or productions by showing which genres to double down on or develop further."
      ],
      "metadata": {
        "id": "PSx9atu2YklI"
      }
    },
    {
      "cell_type": "markdown",
      "source": [
        "##### 3. Will the gained insights help creating a positive business impact?\n",
        "Are there any insights that lead to negative growth? Justify with specific reason."
      ],
      "metadata": {
        "id": "-JiQyfWJYklI"
      }
    },
    {
      "cell_type": "markdown",
      "source": [
        "**✅ Positive Impacts on Business From Chart Insight**\n",
        "\n",
        "\n",
        "*  🎯 Helps decision-makers invest in the right genres that attract the most viewers, ensuring higher engagement and ROI.\n",
        "*  📈  Understanding genre preferences enables personalized recommendations, which boosts viewer satisfaction and retention rates.\n",
        "* 💡 Spotting underrepresented genres can inspire new content exploration, tapping into niche audiences and expanding market reach.\n",
        "\n",
        "**⚠️ Negative Impact on Business From Chart Insight**\n",
        "\n",
        "\n",
        "*   📉 If the platform over-focuses on a few dominant genres, it may alienate diverse audience segments, causing viewer fatigue and loss of market diversity over time.\n",
        "\n",
        "\n",
        "\n"
      ],
      "metadata": {
        "id": "BcBbebzrYklV"
      }
    },
    {
      "cell_type": "markdown",
      "source": [
        "#### Chart - 3"
      ],
      "metadata": {
        "id": "EM7whBJCYoAo"
      }
    },
    {
      "cell_type": "code",
      "source": [
        "!pip install squarify"
      ],
      "metadata": {
        "id": "JT0fC126ho8I"
      },
      "execution_count": null,
      "outputs": []
    },
    {
      "cell_type": "code",
      "source": [
        "import squarify\n",
        "# Flatten and count countries\n",
        "all_countries = [country for countries in df['production_countries'] for country in countries]\n",
        "country_counts = Counter(all_countries)\n",
        "\n",
        "# Create DataFrame\n",
        "country_df = pd.DataFrame(country_counts.items(), columns=['Country', 'Content_Count'])\n",
        "country_df = country_df.sort_values(by='Content_Count', ascending=False).reset_index(drop=True)\n",
        "\n",
        "# Top 10 countries\n",
        "top_countries = country_df.head(10)\n",
        "\n",
        "# Color map\n",
        "cmap = cm.get_cmap('tab10', len(top_countries))\n",
        "colors = [cmap(i) for i in range(len(top_countries))]\n",
        "\n",
        "# Country code to full name mapping\n",
        "full_names = {\n",
        "    'US': 'United States', 'IN': 'India', 'GB': 'United Kingdom', 'JP': 'Japan',\n",
        "    'FR': 'France', 'CA': 'Canada', 'KR': 'South Korea', 'DE': 'Germany',\n",
        "    'ES': 'Spain', 'AU': 'Australia', 'CN': 'China', 'IT': 'Italy'\n",
        "}\n",
        "\n",
        "# Replace country codes with full names\n",
        "labels = [f\"{full_names.get(code, code)}\\n({count})\" for code, count in zip(top_countries['Country'], top_countries['Content_Count'])]\n",
        "\n",
        "# Plot treemap\n",
        "plt.figure(figsize=(6, 4))\n",
        "squarify.plot(\n",
        "    sizes=top_countries['Content_Count'],\n",
        "    label=labels,\n",
        "    color=colors,\n",
        "    alpha=.9,\n",
        "    text_kwargs={'fontsize':7, 'weight':'bold'}\n",
        ")\n",
        "\n",
        "plt.title(\"Top 10 Content-Producing Countries\", fontsize=10, fontweight='bold')\n",
        "plt.axis('off')\n",
        "plt.tight_layout()\n",
        "plt.show()\n"
      ],
      "metadata": {
        "id": "B4toQWXONCHt"
      },
      "execution_count": null,
      "outputs": []
    },
    {
      "cell_type": "markdown",
      "source": [
        "##### 1. Why did you pick the specific chart?"
      ],
      "metadata": {
        "id": "fge-S5ZAYoAp"
      }
    },
    {
      "cell_type": "markdown",
      "source": [
        "1. **Visual hierarchy & space efficiency:** Treemaps use area size to represent values, making it easy to compare the relative contribution of each country within limited space.\n",
        "2. **Great for proportions:** The chart clearly shows how content production is distributed among top countries, helping identify dominant contributors visually at a glance.\n",
        "3. **Compact yet informative:** Treemaps can display both the country name and content count within the blocks themselves, maximizing information density without overwhelming the viewer.\n",
        "4. **Visually engaging:** Treemaps are more eye-catching than traditional charts and are especially useful in presentations or dashboards to highlight key contributors effectively.\n",
        "\n",
        "\n",
        "\n",
        "\n"
      ],
      "metadata": {
        "id": "5dBItgRVYoAp"
      }
    },
    {
      "cell_type": "markdown",
      "source": [
        "##### 2. What is/are the insight(s) found from the chart?"
      ],
      "metadata": {
        "id": "85gYPyotYoAp"
      }
    },
    {
      "cell_type": "markdown",
      "source": [
        "**📌 Insights from the Content producing Chart**\n",
        "\n",
        "\n",
        "\n",
        "*   🎯 **Content Production Concentration:** A few countries dominate the Amazon Prime’s content production, indicating major hubs of media creation and likely larger local industries.\n",
        "*   🌍 **Market Reach & Diversity:** Countries with high content counts (e.g., USA, India) suggest a broad content library appealing to large or diverse audiences.\n",
        "* 📉 **Regional Focus:** Lower counts in some regions may highlight untapped markets or opportunities for expanding content production there.\n",
        "* 💡 **Strategic Decisions:** Understanding which countries produce more content can guide strategies—like investment, partnerships, or marketing—targeted to strong or growing regions.\n",
        "\n"
      ],
      "metadata": {
        "id": "4jstXR6OYoAp"
      }
    },
    {
      "cell_type": "markdown",
      "source": [
        "##### 3. Will the gained insights help creating a positive business impact?\n",
        "Are there any insights that lead to negative growth? Justify with specific reason."
      ],
      "metadata": {
        "id": "RoGjAbkUYoAp"
      }
    },
    {
      "cell_type": "markdown",
      "source": [
        "**✅ Positive Impacts on Business From Chart Insight**\n",
        "* 🎯 **Strong Market Presence:** Dominance by key countries (like USA, India) means the Amazon Prime has solid content to attract large user bases there, boosting subscriptions and engagement.\n",
        "* 🌍 **Diverse Content Library:** Wide genre and regional variety helps appeal to global audiences, increasing customer satisfaction and reducing churn.\n",
        "* 🤝 **Targeted Growth Opportunities:** Knowing which regions produce more content allows the business to form strategic partnerships and invest efficiently in high-potential markets.\n",
        "\n",
        "**⚠️ Negative Impact on Business From Chart Insight**\n",
        "* 📉 **Regional Imbalance:** Heavy reliance on a few countries may make the Amazon Prime vulnerable if those markets face regulatory, political, or economic issues.\n",
        "* ⚖️ **Limited Diversity Risk:** Underrepresentation of some regions or genres could alienate niche audiences and limit global growth potential.\n",
        "* 💸 **Investment Misallocation:** Without balanced content distribution, the platform might overspend in saturated markets while neglecting emerging regions with growth potential."
      ],
      "metadata": {
        "id": "zfJ8IqMcYoAp"
      }
    },
    {
      "cell_type": "markdown",
      "source": [
        "#### Chart - 4"
      ],
      "metadata": {
        "id": "4Of9eVA-YrdM"
      }
    },
    {
      "cell_type": "code",
      "source": [
        "titles_per_year = df.groupby('release_year').size().sort_index()\n",
        "\n",
        "plt.figure(figsize=(18,5))\n",
        "plt.plot(titles_per_year.index, titles_per_year.values, marker='o', color='Black', linewidth=1, markersize=4)\n",
        "\n",
        "plt.grid(which='both', linestyle='--', linewidth=0.5, alpha=0.7)\n",
        "plt.minorticks_on()\n",
        "\n",
        "plt.title(\"Amazon Prime Library Growth Over Time\", fontsize=20, color='Black')\n",
        "plt.xlabel(\"Release Year\", fontsize=14, fontweight='bold')\n",
        "plt.ylabel(\"Number of Titles Added\", fontsize=14, fontweight='bold')\n",
        "\n",
        "max_year = titles_per_year.idxmax()\n",
        "max_value = titles_per_year.max()\n",
        "plt.scatter(max_year, max_value, color='red', s=100, zorder=5)\n",
        "plt.text(max_year, max_value + max_value*0.05, f'{max_value}', color='red', fontsize=12, fontweight='bold', ha='center')\n",
        "\n",
        "plt.xticks(titles_per_year.index, rotation=90, fontsize=6)\n",
        "plt.yticks(fontsize=12)\n",
        "\n",
        "plt.tight_layout()\n",
        "\n",
        "plt.show()\n"
      ],
      "metadata": {
        "id": "irlUoxc8YrdO"
      },
      "execution_count": null,
      "outputs": []
    },
    {
      "cell_type": "markdown",
      "source": [
        "##### 1. Why did you pick the specific chart?"
      ],
      "metadata": {
        "id": "iky9q4vBYrdO"
      }
    },
    {
      "cell_type": "markdown",
      "source": [
        "1. **Shows trends over time:** It clearly displays how the number of titles on Amazon Prime Video changes year by year, making growth patterns easy to spot.\n",
        "2. **Continuous data:** Years represent a natural sequence, so a connected line helps visualize increases, decreases, or plateaus smoothly.\n",
        "3. **Simple and intuitive:** Viewers can quickly grasp the platform’s expansion trajectory without extra complexity.\n",
        "4.**Highlights key points:** It’s easy to add markers or annotations for significant years (e.g., biggest growth), emphasizing important milestones."
      ],
      "metadata": {
        "id": "aJRCwT6DYrdO"
      }
    },
    {
      "cell_type": "markdown",
      "source": [
        "##### 2. What is/are the insight(s) found from the chart?"
      ],
      "metadata": {
        "id": "F6T5p64dYrdO"
      }
    },
    {
      "cell_type": "markdown",
      "source": [
        "📌**Insights from the Content producing Chart**\n",
        "* From the year 2000 onwards 📅, Amazon Prime Video’s library has steadily grown by adding movies and shows from each release year 🎬📺.\n",
        "* The year 2021 stands out as the peak 📈, with the highest number of titles **(856)** released and added to the platform 🎉, reflecting a major content expansion in recent times 🚀."
      ],
      "metadata": {
        "id": "Xx8WAJvtYrdO"
      }
    },
    {
      "cell_type": "markdown",
      "source": [
        "##### 3. Will the gained insights help creating a positive business impact?\n",
        "Are there any insights that lead to negative growth? Justify with specific reason."
      ],
      "metadata": {
        "id": "y-Ehk30pYrdP"
      }
    },
    {
      "cell_type": "markdown",
      "source": [
        "**✅ Positive Impacts on Business From Chart Insight**\n",
        "* 🚀 **Rapid Growth:** The sharp increase in titles added in 2021 shows Amazon’s strong commitment to expanding its library, attracting more subscribers.\n",
        "* 🎯 **Competitive Edge:** A larger and more recent content catalog helps Amazon Prime compete effectively with other streaming services.\n",
        "* 🌍 **Diverse Offerings:** Adding content from many release years ensures a mix of classics and new releases, appealing to a wide audience range.\n",
        "\n",
        "**⚠️ Negative Impact on Business From Chart Insight**\n",
        "\n",
        "* ⚠️ **Quality vs Quantity:** Rapid content addition may risk including lower-quality titles, which could affect user satisfaction.\n",
        "* 📉 **Content Saturation:** Too many titles released in a short time can overwhelm users, making discovery harder.\n",
        "* 💸 **High Costs:** Expanding the library aggressively involves big licensing and production costs, impacting profitability if subscriber growth doesn’t keep pace.\n",
        "\n"
      ],
      "metadata": {
        "id": "jLNxxz7MYrdP"
      }
    },
    {
      "cell_type": "markdown",
      "source": [
        "#### Chart - 5"
      ],
      "metadata": {
        "id": "bamQiAODYuh1"
      }
    },
    {
      "cell_type": "code",
      "source": [
        "import plotly.express as px\n",
        "\n",
        "# Prepare the data\n",
        "bubble_df = df[['title', 'type', 'imdb_score', 'tmdb_popularity', 'imdb_votes']].dropna()\n",
        "bubble_df = bubble_df.sort_values(by='imdb_votes', ascending=False).head(100)\n",
        "\n",
        "fig = px.scatter(\n",
        "    bubble_df,\n",
        "    x=\"imdb_score\",\n",
        "    y=\"tmdb_popularity\",\n",
        "    size=\"imdb_votes\",\n",
        "    color=\"type\",\n",
        "    hover_name=\"title\",\n",
        "    size_max=20,\n",
        "    color_discrete_sequence=px.colors.qualitative.Set2,\n",
        "    title=\"🎬 IMDb Score vs TMDB Popularity (Top 100 Titles by Votes)\"\n",
        ")\n",
        "\n",
        "fig.update_layout(\n",
        "    xaxis_title=\"IMDb Score\",\n",
        "    yaxis_title=\"TMDB Popularity\",\n",
        "    legend_title=\"Content Type\",\n",
        "    font=dict(size=12),\n",
        "    plot_bgcolor='white'\n",
        ")\n",
        "\n",
        "fig.update_traces(marker=dict(line=dict(width=1, color='DarkSlateGrey')))\n",
        "fig.show()\n"
      ],
      "metadata": {
        "id": "TIJwrbroYuh3"
      },
      "execution_count": null,
      "outputs": []
    },
    {
      "cell_type": "code",
      "source": [
        "top_rated = df[df['imdb_score'].notnull()].sort_values(by='imdb_score', ascending=False)\n",
        "top_rated_titles = top_rated[['title', 'type', 'imdb_score']].head(5)\n",
        "print(\"\\n🎬 Top 5 Highest Rated Titles:\\n\")\n",
        "print(top_rated_titles)\n",
        "top_popular = df[df['tmdb_popularity'].notnull()].sort_values(by='tmdb_popularity', ascending=False)\n",
        "top_popular_titles = top_popular[['title', 'type', 'tmdb_popularity']].head(5)\n",
        "print(\"\\n🔥 Top 5 Most Popular Titles:\\n\")\n",
        "print(top_popular_titles)\n",
        "most_voted = df[df['imdb_votes'].notnull()].sort_values(by='imdb_votes', ascending=False)\n",
        "top_voted_titles = most_voted[['title', 'type', 'imdb_votes']].head(5)\n",
        "print(\"\\n🏆 Top 5 Most Voted Titles (IMDb):\\n\")\n",
        "print(top_voted_titles)"
      ],
      "metadata": {
        "id": "nVeAJXpAw5Ee"
      },
      "execution_count": null,
      "outputs": []
    },
    {
      "cell_type": "markdown",
      "source": [
        "##### 1. Why did you pick the specific chart?"
      ],
      "metadata": {
        "id": "QHF8YVU7Yuh3"
      }
    },
    {
      "cell_type": "markdown",
      "source": [
        "**✅ Reasons for Choosing the Bubble Chart (Plotly)**\n",
        "\n",
        "**1. Multivariate Representation 📊**\n",
        "\n",
        "  * The bubble chart visualizes three variables at once:\n",
        "    * IMDb Score (quality)\n",
        "    * TMDB Popularity (audience engagement)\n",
        "    * IMDb Votes (viewer base size — represented by bubble size)\n",
        "\n",
        "**2. Interactive Exploration 🔍**\n",
        "\n",
        "* Users can hover over bubbles to view title-specific details and zoom into clusters, making it perfect for deep data exploration.\n",
        "\n",
        "**3. Clear Visual Insights 🌟**\n",
        "\n",
        "* The chart clearly reveals:\n",
        "  * High-quality yet underrated titles (high score, low popularity)\n",
        "  * Overhyped content (high popularity, low score)\n",
        "  * All-round hits (large bubbles in top-right)\n",
        "\n",
        "**4. Category Comparison 🎬**\n",
        "\n",
        "* Color-coding by type (Movie or Show) makes it easy to compare performance across content types in one view."
      ],
      "metadata": {
        "id": "dcxuIMRPYuh3"
      }
    },
    {
      "cell_type": "markdown",
      "source": [
        "##### 2. What is/are the insight(s) found from the chart?"
      ],
      "metadata": {
        "id": "GwzvFGzlYuh3"
      }
    },
    {
      "cell_type": "markdown",
      "source": [
        "**📌 Top Insights:**\n",
        "\n",
        "**1. 🌟 High Ratings Don't Always Mean High Popularity**\n",
        "\n",
        "* Pawankhind (9.9 IMDb) and Water Helps the Blood Run (9.7 IMDb) are critically acclaimed, yet they don’t appear among the most popular or most voted — indicating they may have a smaller but loyal audience or limited reach.\n",
        "\n",
        "**2. 🔥 Popular Titles Are Recent and Mass-Appeal Focused**\n",
        "\n",
        "* Movies like All the Old Knives and Hotel Transylvania: Transformania are among the most popular (high TMDB popularity), showing that recency and wide appeal drive popularity, not necessarily critical ratings.\n",
        "\n",
        "**3. 🏆 Classics Dominate IMDb Votes**\n",
        "\n",
        "* Blockbusters like Titanic, Braveheart, and The Terminator have the highest IMDb votes, reflecting long-term legacy, global reach, and strong viewer engagement over time.\n",
        "\n",
        "**4. 📺 Shows Are Gaining Ground**\n",
        "\n",
        "* Among the top-rated content, several are TV shows (e.g., The Chosen, Couple of Mirrors), suggesting that series formats are resonating well with audiences in terms of quality."
      ],
      "metadata": {
        "id": "uyqkiB8YYuh3"
      }
    },
    {
      "cell_type": "markdown",
      "source": [
        "##### 3. Will the gained insights help creating a positive business impact?\n",
        "Are there any insights that lead to negative growth? Justify with specific reason."
      ],
      "metadata": {
        "id": "qYpmQ266Yuh3"
      }
    },
    {
      "cell_type": "markdown",
      "source": [
        "**✅ Positive Impacts:**\n",
        "\n",
        "**📈 Diversified Audience Appeal:** Featuring both critically acclaimed titles (Pawankhind, The Chosen) and mainstream hits (Hotel Transylvania, Sonic) helps attract both niche and mass audiences, broadening the user base.\n",
        "\n",
        "**📺 Strength in Original Series:** High IMDb ratings for Prime’s original shows (like Water Helps the Blood Run) indicate strong content quality, which boosts subscriber retention and brand reputation.\n",
        "\n",
        "**🎯 Long-Tail Engagement:** Classics like Titanic and Braveheart continue to perform well with millions of votes, showing evergreen content drives consistent engagement, maximizing the value of older licensing deals.\n",
        "\n",
        "**⚠️ Negative Impacts:**\n",
        "\n",
        "**📉 Underpromotion of High-Quality Titles:** Top-rated titles with low popularity suggest marketing gaps. These hidden gems aren’t reaching larger audiences, potentially losing out on engagement and ROI.\n",
        "\n",
        "**🎬 Reliance on External IPs:** Many most-voted titles are older, non-original films. Heavy reliance on legacy content could limit brand uniqueness and expose Prime to licensing risks.\n",
        "\n",
        "**📊 Skewed Popularity Metrics:** Popularity driven by short-term buzz (e.g., All the Old Knives) may not translate into long-term user loyalty if not backed by quality or narrative depth."
      ],
      "metadata": {
        "id": "_WtzZ_hCYuh4"
      }
    },
    {
      "cell_type": "markdown",
      "source": [
        "#### Chart - 6 - Correlation Heatmap"
      ],
      "metadata": {
        "id": "NC_X3p0fY2L0"
      }
    },
    {
      "cell_type": "code",
      "source": [
        "# Columns relevant for correlation\n",
        "correlation_columns = [\n",
        "    'runtime',\n",
        "    'seasons',\n",
        "    'imdb_score',\n",
        "    'imdb_votes',\n",
        "    'tmdb_score',\n",
        "    'tmdb_popularity'\n",
        "]\n",
        "correlation_columns_Movies = [\n",
        "    'runtime',\n",
        "    'imdb_score',\n",
        "    'imdb_votes',\n",
        "    'tmdb_score',\n",
        "    'tmdb_popularity'\n",
        "]\n",
        "\n",
        "# Subset data by content type\n",
        "movies_df = df[df['type'] == 'MOVIE'][correlation_columns_Movies]\n",
        "shows_df = df[df['type'] == 'SHOW'][correlation_columns]\n",
        "\n",
        "# Create figure with subplots\n",
        "plt.figure(figsize=(14, 6))\n",
        "\n",
        "# Movie Correlation Heatmap\n",
        "plt.subplot(1, 2, 1)\n",
        "sns.heatmap(movies_df.corr(), annot=True, cmap='coolwarm', fmt=\".2f\", square=True,vmin=-1, vmax=1)\n",
        "plt.title('Correlation Heatmap - Movies')\n",
        "\n",
        "# Show Correlation Heatmap\n",
        "plt.subplot(1, 2, 2)\n",
        "sns.heatmap(shows_df.corr(), annot=True, cmap='coolwarm', fmt=\".2f\", square=True,vmin=-1, vmax=1)\n",
        "plt.title('Correlation Heatmap - Shows')\n",
        "\n",
        "plt.tight_layout()\n",
        "plt.show()\n"
      ],
      "metadata": {
        "id": "xyC9zolEZNRQ"
      },
      "execution_count": null,
      "outputs": []
    },
    {
      "cell_type": "markdown",
      "source": [
        "##### 1. Why did you pick the specific chart?"
      ],
      "metadata": {
        "id": "UV0SzAkaZNRQ"
      }
    },
    {
      "cell_type": "markdown",
      "source": [
        "\n",
        "\n",
        "* Shows relationships clearly with colors 🎨\n",
        "\n",
        "* Summarizes many correlations in one view 📊\n",
        "\n",
        "* Highlights strong/weak links instantly 👀\n",
        "\n",
        "* Helps make quick, data-driven decisions ✅\n",
        "\n",
        "* Heatmaps make complex data easy and visual! 🔥"
      ],
      "metadata": {
        "id": "DVPuT8LYZNRQ"
      }
    },
    {
      "cell_type": "markdown",
      "source": [
        "##### 2. What is/are the insight(s) found from the chart?"
      ],
      "metadata": {
        "id": "YPEH6qLeZNRQ"
      }
    },
    {
      "cell_type": "markdown",
      "source": [
        "**🎬 Insights from Movies Correlation Matrix**\n",
        "\n",
        "**⭐ IMDb Score and TMDb Score Have a Moderate Positive Correlation (0.46)**\n",
        "\n",
        "* Movies rated highly on IMDb also tend to get higher scores on TMDb. This shows consistent quality perception across different rating platforms. 👍\n",
        "\n",
        "**👥 IMDb Votes and TMDb Popularity Are Weakly Positively Correlated (0.20)**\n",
        "\n",
        "* More votes on IMDb usually correspond to somewhat higher popularity on TMDb, but this relationship is relatively weak. Popularity and engagement don't always move perfectly together. 📉📈\n",
        "\n",
        "**⏳ Runtime Has Very Low Correlation with All Other Variables (Max ~0.13)**\n",
        "\n",
        "* The length of a movie barely affects its ratings or popularity, suggesting movie duration is not a major factor in audience or critic reception. 🕒➡️❌\n",
        "\n",
        "**📊 IMDb Votes and IMDb Score Are Weakly Positively Correlated (0.16)**\n",
        "\n",
        "* Movies with higher user votes tend to have slightly better ratings, but the effect is small, indicating popular movies don’t always get higher scores. 🤷‍♂️\n",
        "\n",
        "**🔥 TMDb Popularity Has Very Low Correlation with Scores (Close to 0)**\n",
        "\n",
        "* TMDb popularity does not strongly correlate with either IMDb or TMDb scores, suggesting popularity and rating quality can be quite different dimensions. 🎭 vs 👑\n",
        "\n",
        "**📺 Insights from Shows Correlation Matrix**\n",
        "\n",
        "**⭐ IMDb Score and TMDb Score Have a Moderate Positive Correlation (0.30)**\n",
        "\n",
        "* Similar to movies, shows with higher IMDb ratings also tend to score better on TMDb, indicating consistent quality perception across platforms. 👍\n",
        "\n",
        "**🔥 IMDb Votes and TMDb Popularity Have a Strong Positive Correlation (0.49)**\n",
        "\n",
        "* Shows with more user votes on IMDb are generally more popular on TMDb, reflecting strong audience engagement and visibility. 🎉👥\n",
        "\n",
        "**📊 IMDb Score and IMDb Votes Have a Moderate Positive Correlation (0.21)**\n",
        "\n",
        "* Shows with higher votes tend to have somewhat better ratings, though the relationship isn’t very strong — popularity doesn’t always mean higher scores. 🤔\n",
        "\n",
        "**⏳ Runtime Has Very Weak Correlations with Other Variables (all below 0.14)**\n",
        "\n",
        "* The length of episodes or shows does not significantly impact ratings or popularity, implying duration isn’t a key factor in audience reception. 🕒➡️❌\n",
        "\n",
        "**📅 Seasons and TMDb Popularity Show a Slight Positive Correlation (0.18)**\n",
        "\n",
        "* Shows with more seasons tend to have marginally higher popularity, possibly due to established fan bases or long-running interest. 📈📺"
      ],
      "metadata": {
        "id": "PHFkB4gaMiYJ"
      }
    },
    {
      "cell_type": "markdown",
      "source": [
        "## **5. Solution to Business Objective**"
      ],
      "metadata": {
        "id": "JcMwzZxoAimU"
      }
    },
    {
      "cell_type": "markdown",
      "source": [
        "#### What do you suggest the client to achieve Business Objective ?\n",
        "Explain Briefly."
      ],
      "metadata": {
        "id": "8G2x9gOozGDZ"
      }
    },
    {
      "cell_type": "markdown",
      "source": [
        "**✅ 1. Invest More in High-Rated & Popular Genres**\n",
        "\n",
        "**Insight:** Genres like Drama, Action, and Comedy dominate in volume and popularity.\n",
        "\n",
        "**Action:** Boost production and acquisition of content in these genres to align with audience preferences.\n",
        "\n",
        "**✅ 2. Expand Regionally Targeted Content**\n",
        "\n",
        "**Insight:** Countries like the US, India, UK, Japan, and France are top content producers.\n",
        "\n",
        "**Action:** Invest in regional originals and local language content to tap into specific markets and grow international viewership.\n",
        "\n",
        "**✅ 3. Promote High IMDb/Popularity Content**\n",
        "\n",
        "**Insight:** Titles like Titanic, The Chosen, and All the Old Knives have high ratings and popularity.\n",
        "\n",
        "**Action:** Highlight these titles in personalized recommendations and featured banners to attract and retain users.\n",
        "\n",
        "**✅ 4. Monitor Trends Over Time**\n",
        "\n",
        "**Insight:** Significant content addition between 2018–2021, showing growth and demand.\n",
        "\n",
        "**Action:** Maintain momentum by planning timely content releases aligned with market trends and seasonal demand."
      ],
      "metadata": {
        "id": "pASKb0qOza21"
      }
    },
    {
      "cell_type": "markdown",
      "source": [
        "# **Conclusion**"
      ],
      "metadata": {
        "id": "gCX9965dhzqZ"
      }
    },
    {
      "cell_type": "markdown",
      "source": [
        "**📈 Growth Trajectory:** The platform has seen significant content expansion, especially from 2018 to 2021, indicating strong growth and audience demand.\n",
        "\n",
        "**🎬 Genre & Type Trends:** Drama, Action, and Comedy dominate across both movies and shows. Shows have become increasingly popular, offering binge-worthy engagement.\n",
        "\n",
        "**🌍 Global Diversity:** The U.S., India, and the U.K. lead in content production, suggesting where audience interest and investment are strongest.\n",
        "\n",
        "**⭐ Audience Preferences:** High IMDb-rated and TMDb-popular titles show a clear preference for quality storytelling. These should be promoted to improve engagement and retention."
      ],
      "metadata": {
        "id": "Fjb1IsQkh3yE"
      }
    },
    {
      "cell_type": "markdown",
      "source": [
        "### ***Hurrah! You have successfully completed your EDA Capstone Project !!!***"
      ],
      "metadata": {
        "id": "gIfDvo9L0UH2"
      }
    }
  ]
}